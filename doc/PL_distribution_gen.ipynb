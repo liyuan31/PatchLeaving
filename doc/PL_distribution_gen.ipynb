{
  "nbformat": 4,
  "nbformat_minor": 0,
  "metadata": {
    "colab": {
      "name": "PL_distribution_gen.ipynb",
      "provenance": [],
      "collapsed_sections": []
    },
    "kernelspec": {
      "name": "python3",
      "display_name": "Python 3"
    },
    "language_info": {
      "name": "python"
    }
  },
  "cells": [
    {
      "cell_type": "code",
      "execution_count": 46,
      "metadata": {
        "colab": {
          "base_uri": "https://localhost:8080/",
          "height": 300
        },
        "id": "AyPNyNYGF65y",
        "outputId": "ab09e599-6207-4b99-987a-43fb7343ca91"
      },
      "outputs": [
        {
          "output_type": "stream",
          "name": "stdout",
          "text": [
            "Found a distribution with size 5000 and mean 1.001 after 3055653 iterations.\n",
            "[2447, 1288, 620, 342, 165, 72, 40, 18, 8]\n"
          ]
        },
        {
          "output_type": "display_data",
          "data": {
            "image/png": "[encoded data removed]",
            "text/plain": [
              "<Figure size 432x288 with 1 Axes>"
            ]
          },
          "metadata": {
            "needs_background": "light"
          }
        }
      ],
      "source": [
        "import numpy as np\n",
        "import matplotlib.pyplot as plt\n",
        "size = 5000\n",
        "target_mean = 1\n",
        "err = 1\n",
        "max = 0\n",
        "n = 0\n",
        "while err > 0.001 or max > 8:\n",
        "    z = np.random.geometric(p=0.5, size=size)\n",
        "    z = z-1\n",
        "    err = np.abs(np.mean(z)-target_mean)\n",
        "    max = np.max(z)\n",
        "    n += 1\n",
        "\n",
        "print(\"Found a distribution with size %d and mean %.3f after %d iterations.\" %\n",
        "      ( size, z.mean(), n))\n",
        "freq = [np.sum(z==i) for i in range(0,9)];print(freq)\n",
        "plt.bar([i for i in range(0,9)], freq);"
      ]
    },
    {
      "cell_type": "code",
      "source": [
        "print(\",\".join([str(e) for e in z]))"
      ],
      "metadata": {
        "colab": {
          "base_uri": "https://localhost:8080/"
        },
        "id": "9dpDutRUL8Go",
        "outputId": "e5258b22-fbef-4287-e192-5635d9d0d51f"
      },
      "execution_count": 47,
      "outputs": [
        {
          "output_type": "stream",
          "name": "stdout",
          "text": [
            "3,5,2,2,1,0,3,2,1,1,1,1,1,5,0,0,0,0,2,0,0,0,1,3,0,0,0,0,0,0,0,0,0,0,0,0,1,3,0,0,0,0,0,0,2,0,2,3,1,0,0,0,0,0,0,3,0,0,0,0,0,1,0,2,1,0,1,0,1,3,0,0,2,0,0,0,0,1,1,1,0,5,0,0,4,2,2,5,0,0,1,0,1,1,0,0,0,0,1,0,0,3,3,0,3,0,1,0,0,1,0,0,2,2,1,4,0,0,5,0,1,0,5,1,1,0,0,1,1,2,4,3,1,0,7,1,0,1,1,0,0,2,0,0,0,1,0,0,0,1,1,0,1,0,3,0,0,1,2,3,0,0,0,0,0,0,0,1,0,1,0,0,2,0,0,0,1,3,0,0,0,1,0,0,1,0,0,2,0,0,0,0,0,0,1,2,0,0,1,2,1,4,1,3,0,0,2,1,0,3,1,1,0,0,0,0,2,2,1,0,1,2,0,1,0,0,1,0,0,1,2,2,2,0,0,0,0,1,1,0,0,0,1,2,3,0,0,4,1,0,0,2,2,0,1,1,0,4,6,0,0,2,0,0,0,1,0,0,0,0,0,4,0,0,2,0,1,1,0,0,0,3,1,0,0,0,2,0,0,1,0,0,4,1,3,2,0,0,1,0,0,2,0,0,0,0,2,0,2,0,2,0,0,1,0,1,4,0,3,1,1,3,2,0,0,1,0,0,0,0,4,0,1,4,0,0,3,5,0,0,3,0,0,0,0,1,0,0,0,0,0,4,0,0,0,0,2,0,0,1,1,1,0,0,0,0,1,4,0,1,0,2,1,1,2,5,4,6,1,0,7,1,2,0,1,1,2,0,1,0,2,2,0,3,0,2,0,1,3,0,0,0,2,2,4,2,0,0,2,0,5,3,4,0,0,1,1,0,0,0,7,0,0,0,1,0,1,0,2,0,5,3,0,3,0,2,3,1,1,0,0,1,0,2,0,1,2,0,0,0,3,2,4,0,0,1,3,0,1,1,2,1,0,1,0,4,0,0,2,4,4,1,2,0,0,0,0,0,2,2,0,0,0,2,1,2,0,3,0,3,0,0,0,0,0,0,1,1,1,1,1,3,0,1,1,1,0,1,0,0,3,1,2,0,0,1,1,4,4,3,1,2,3,6,0,0,1,0,3,0,0,0,2,3,1,2,1,0,2,0,1,0,0,0,0,1,0,1,0,1,5,1,0,3,5,0,2,0,0,0,0,1,1,6,1,1,0,0,0,0,0,3,0,0,0,2,2,0,0,0,0,0,0,1,2,5,0,1,0,1,0,1,1,4,3,0,1,1,0,0,1,0,2,0,3,1,4,0,0,3,1,0,0,0,4,1,1,0,1,0,0,0,0,0,1,3,0,1,0,2,6,0,0,2,0,0,3,0,2,0,1,1,1,1,0,0,4,0,1,1,0,0,0,1,0,2,4,0,2,1,1,0,0,0,1,0,0,2,0,1,1,0,0,1,0,0,3,1,0,0,0,1,4,0,0,0,1,0,0,1,3,0,0,1,1,0,0,1,0,2,0,0,1,0,0,0,0,0,1,1,1,0,1,1,0,0,0,1,0,1,2,2,4,0,1,0,0,5,0,1,2,3,0,0,2,1,1,0,1,2,3,0,0,0,0,4,0,0,2,1,0,0,0,2,1,0,0,1,0,0,0,0,0,2,0,2,0,1,1,0,0,0,0,1,0,5,2,1,0,1,4,0,1,1,0,0,1,0,0,1,1,0,3,0,2,3,0,1,0,1,3,0,1,1,0,5,0,3,1,0,4,0,0,1,0,0,1,2,2,0,0,1,1,2,0,1,1,0,0,0,0,0,0,1,0,2,0,3,1,0,0,0,0,1,1,0,0,1,4,0,0,0,0,7,0,0,0,0,0,0,0,2,1,0,2,0,0,0,2,1,4,1,1,0,4,2,0,0,8,4,2,0,2,5,1,2,2,0,1,1,0,1,1,1,0,0,3,1,0,4,2,0,1,0,2,0,1,1,0,2,1,0,2,6,3,2,0,0,3,0,0,0,1,3,3,0,0,1,2,0,0,0,3,1,1,0,3,0,0,0,2,0,0,0,0,2,1,1,1,2,1,3,0,0,0,0,0,0,1,0,2,0,0,2,0,0,0,0,2,3,1,1,0,1,1,1,1,2,0,0,0,0,0,0,1,0,0,1,0,1,3,0,2,0,1,3,0,0,0,1,1,5,0,0,0,0,0,1,5,1,2,1,0,3,1,0,0,0,3,0,0,2,4,0,1,1,5,3,1,0,0,1,1,0,0,0,0,2,0,0,1,0,1,0,0,3,3,0,2,1,6,0,0,0,2,1,1,1,0,0,0,0,1,0,1,5,0,6,0,0,1,0,0,1,1,1,1,1,0,0,1,1,1,4,1,1,0,0,1,0,1,5,2,0,1,0,3,1,2,7,1,0,3,0,1,0,1,2,0,0,1,3,0,3,1,2,0,0,1,0,5,1,2,0,1,0,0,1,0,2,0,0,3,0,1,1,0,1,2,1,0,0,0,0,0,2,2,0,1,4,1,0,0,0,0,2,3,0,0,2,2,6,0,1,2,1,1,4,2,1,2,3,5,0,1,1,3,0,0,0,1,0,0,3,1,0,0,2,3,4,4,1,0,1,2,2,1,0,2,5,1,0,2,1,5,0,0,0,0,0,0,0,1,0,1,1,0,0,0,6,1,1,0,1,2,2,2,0,0,1,0,4,3,4,3,2,0,0,0,0,2,0,3,1,4,0,0,0,0,2,6,2,1,4,2,0,6,0,0,2,0,2,0,0,0,1,0,3,0,0,0,0,1,2,0,0,1,4,1,0,0,0,2,2,1,4,5,1,1,3,0,0,0,0,0,0,0,1,3,1,1,0,1,0,0,1,3,0,2,0,0,1,0,1,0,0,1,1,0,1,8,0,1,4,1,0,3,0,4,0,1,1,3,1,0,0,0,0,0,0,1,2,1,1,0,1,0,0,0,2,1,1,2,3,3,1,1,0,1,0,1,1,1,6,2,1,0,2,1,0,3,0,1,1,1,1,2,0,2,0,1,0,0,2,2,0,0,1,1,1,1,0,1,1,0,3,1,1,0,0,0,1,0,1,2,1,0,0,1,5,0,1,1,1,0,1,0,1,0,0,0,0,0,0,0,1,0,4,0,4,0,0,0,1,0,5,4,0,0,0,1,0,0,2,0,3,2,5,0,0,0,2,0,2,0,3,0,2,1,2,2,0,0,1,0,0,6,4,2,1,3,0,1,0,1,0,0,0,0,0,0,2,2,0,1,1,0,0,0,1,2,0,0,0,0,0,3,0,0,2,1,1,0,0,1,3,1,2,0,0,1,0,0,0,0,3,0,0,2,0,0,0,0,0,1,1,1,0,2,0,0,0,0,0,1,0,1,1,1,0,0,2,0,0,0,1,0,0,4,0,5,2,0,1,0,2,0,1,0,3,1,0,0,2,3,0,1,0,2,1,0,1,0,0,0,3,0,1,0,3,0,0,0,0,1,1,0,0,0,4,3,3,0,1,1,0,0,3,0,0,0,4,1,0,3,0,1,0,3,1,2,0,0,0,1,1,3,2,0,1,0,1,0,1,1,0,1,2,1,2,2,2,3,0,1,2,0,1,3,1,0,0,0,2,1,0,0,0,0,1,0,0,0,0,4,3,0,0,2,3,1,1,1,4,1,6,2,0,2,0,2,1,1,1,1,0,1,0,3,0,1,1,1,0,2,0,1,0,0,0,0,0,1,1,2,0,1,1,3,1,1,0,0,0,1,0,1,0,0,0,1,1,0,0,0,0,3,0,0,1,0,3,0,2,0,1,0,0,0,3,0,2,0,0,0,1,0,0,0,2,0,1,0,4,0,0,0,0,1,1,1,0,2,0,0,1,2,0,2,0,1,2,1,2,0,2,1,0,4,0,2,0,0,4,0,0,0,0,1,0,0,0,0,1,0,2,4,1,6,0,0,1,2,0,1,1,2,1,1,1,0,3,0,0,0,0,4,1,0,0,0,2,1,1,0,0,1,1,1,0,0,0,0,0,0,4,2,1,2,2,2,1,0,0,0,0,0,0,0,0,0,1,3,3,1,1,1,0,0,1,0,1,0,1,1,0,0,0,3,1,0,3,1,2,2,1,1,0,1,0,3,1,3,2,0,0,0,4,1,4,0,2,1,0,2,2,0,0,0,2,0,1,0,0,0,0,0,0,0,3,0,0,2,0,0,0,1,0,0,0,0,0,0,0,0,4,0,0,1,0,0,1,0,0,0,1,0,1,2,1,1,1,0,0,0,0,0,0,1,0,3,1,1,0,0,0,0,0,0,0,0,4,2,7,1,0,2,1,0,7,2,0,0,0,0,3,0,0,1,0,0,0,1,0,0,0,1,0,2,0,0,2,0,2,0,0,0,1,1,3,1,0,1,1,0,1,0,0,1,1,0,0,0,0,1,0,2,3,1,0,0,0,0,1,1,0,3,0,0,1,0,0,0,0,0,0,1,2,0,3,1,2,2,0,1,2,1,1,0,1,1,0,0,0,0,3,0,0,1,1,0,2,0,1,0,0,0,1,1,0,1,1,0,3,1,0,0,0,0,0,0,0,1,2,0,0,0,1,2,0,0,0,0,1,1,0,1,2,0,2,0,0,0,0,0,1,2,4,1,1,0,2,1,4,2,0,0,7,0,0,3,2,0,0,0,3,1,0,1,1,0,1,1,1,0,0,0,3,1,0,0,1,1,0,0,1,1,0,2,0,0,1,0,0,0,0,3,0,1,0,1,2,1,0,0,1,0,1,0,1,0,2,2,1,1,0,1,1,0,0,0,2,1,0,0,0,0,1,1,2,1,0,0,0,3,0,0,1,0,1,2,0,2,1,0,1,3,4,0,4,1,1,0,2,0,1,3,0,1,0,1,2,0,0,4,0,0,0,1,1,1,0,2,0,1,0,1,0,0,1,2,0,0,3,0,0,1,0,0,4,0,0,4,0,2,0,0,2,1,0,1,1,0,0,0,2,1,1,2,0,0,4,2,1,0,2,0,1,2,1,3,0,0,3,0,1,0,3,1,0,0,2,2,0,2,0,2,0,2,1,1,0,3,0,2,0,1,0,6,0,3,2,2,2,0,0,0,0,0,1,0,0,1,0,0,0,1,2,0,6,0,3,0,0,2,3,1,1,1,0,2,3,3,1,0,0,1,1,0,0,0,1,1,1,0,1,1,0,4,0,1,0,1,0,1,0,0,1,0,0,1,0,2,2,0,1,0,0,1,1,1,0,1,4,1,1,0,1,0,5,2,0,0,2,3,2,2,0,0,1,0,1,0,0,1,1,1,0,0,0,2,2,1,3,0,2,0,0,1,0,0,2,0,0,1,0,1,1,0,0,4,0,0,0,0,0,0,0,3,7,0,1,0,1,1,0,2,2,0,1,0,3,1,1,0,0,3,2,0,2,0,1,1,0,3,1,0,0,3,1,2,0,0,6,0,3,2,0,0,1,0,2,1,2,4,1,2,0,4,0,4,0,0,0,0,0,1,0,0,0,5,1,4,0,0,2,1,0,6,0,0,0,0,0,2,0,0,2,0,1,1,0,1,1,0,0,0,0,1,0,0,1,0,1,2,0,0,0,1,3,0,0,0,0,0,0,0,3,4,3,1,0,1,1,0,1,0,1,2,2,1,1,4,2,0,0,1,1,0,0,2,3,0,0,0,2,3,0,8,0,1,3,1,0,0,1,1,2,6,0,2,6,0,3,3,1,2,0,1,0,1,0,0,1,1,0,0,2,0,4,1,2,0,0,0,3,2,0,0,5,2,1,3,1,0,0,0,1,0,0,4,1,0,0,0,3,0,0,0,0,2,5,2,0,2,2,2,0,1,0,1,0,0,2,2,0,0,4,1,0,3,1,2,4,0,3,0,0,2,0,0,0,4,0,0,0,0,7,1,0,0,1,1,0,0,3,5,1,4,6,2,1,0,1,1,2,0,7,0,2,1,6,2,0,2,0,0,0,0,0,6,0,2,1,3,0,0,2,0,0,1,2,0,2,0,1,0,0,0,0,0,2,1,1,2,0,0,0,0,0,2,2,3,4,0,0,0,3,1,0,2,0,0,0,2,0,2,0,8,0,0,1,0,0,0,2,2,3,1,1,0,1,0,1,0,1,1,0,0,0,2,0,3,0,0,3,0,1,0,0,2,0,3,0,2,0,0,1,2,1,3,0,0,4,1,0,1,0,2,0,0,1,0,0,0,0,0,0,1,5,5,0,0,0,1,2,0,0,2,2,1,3,1,0,0,1,1,2,2,3,1,3,1,0,3,2,0,0,0,0,0,1,0,4,0,2,4,1,0,0,0,1,3,0,0,1,0,1,0,3,1,3,3,0,2,0,4,1,2,2,0,0,1,0,0,1,0,0,1,0,2,0,6,0,0,0,3,2,1,0,4,1,0,0,2,0,0,0,0,1,1,2,0,0,0,0,0,0,1,0,2,0,2,0,1,0,1,0,1,0,3,1,0,1,0,2,3,2,1,2,6,1,5,1,1,1,1,0,2,1,7,1,0,2,1,2,3,1,3,0,2,0,2,0,3,0,1,0,0,1,0,1,0,0,1,0,0,0,0,0,1,0,2,0,0,1,0,0,0,0,0,1,3,0,0,0,4,0,1,3,0,2,1,0,3,1,0,0,0,1,0,0,0,1,0,0,1,4,0,1,0,0,1,1,2,1,4,0,2,0,3,0,4,0,0,3,0,1,0,0,5,0,1,1,5,0,0,5,1,1,2,2,0,0,0,0,0,0,2,0,1,0,0,1,0,0,1,0,0,1,1,4,1,1,0,1,0,0,1,0,3,3,0,1,0,0,1,0,1,0,1,1,0,0,0,0,0,2,1,0,0,0,2,2,3,0,0,4,0,1,1,0,1,5,0,1,0,1,0,0,1,1,0,1,1,0,0,1,3,0,0,0,5,2,0,3,0,0,2,1,2,2,1,1,2,0,0,0,0,0,4,0,0,2,1,6,1,3,1,4,0,1,0,1,0,1,3,0,3,1,0,0,0,3,0,1,0,0,2,0,0,0,0,0,3,3,0,0,0,1,3,5,0,6,0,0,1,0,1,0,0,0,0,5,0,2,1,0,0,0,0,0,0,0,2,0,0,0,0,1,0,0,0,1,0,0,0,1,2,1,1,1,1,1,2,3,3,4,1,3,0,0,2,0,3,1,1,0,0,1,0,6,3,0,0,1,2,0,4,3,0,1,0,0,3,2,0,0,0,1,0,0,3,1,0,3,3,0,1,0,3,8,2,0,2,0,0,2,0,2,4,2,1,1,3,2,2,0,1,0,1,2,0,0,0,0,1,0,0,0,0,0,0,0,0,1,1,1,1,0,0,0,2,2,2,3,0,1,2,1,1,1,0,3,0,1,2,1,2,1,0,1,0,2,4,0,2,1,1,0,3,1,0,0,0,1,2,1,4,1,0,0,0,0,1,1,1,6,3,1,0,1,0,4,0,0,6,0,2,1,0,0,0,2,2,0,1,1,0,2,0,1,1,1,0,1,0,0,0,0,0,0,0,0,0,3,1,1,2,0,2,4,0,0,0,1,6,0,0,1,0,1,2,0,1,0,2,1,0,4,7,0,0,0,1,2,0,0,0,1,0,2,0,0,2,0,0,0,0,1,1,2,0,0,0,1,0,0,0,0,2,0,5,3,0,0,1,1,3,0,0,2,1,0,2,2,0,1,0,0,3,1,5,0,2,0,0,0,0,0,2,0,1,1,0,2,1,0,2,4,0,2,3,1,4,1,0,0,1,1,1,1,0,2,0,0,4,1,0,1,1,3,1,1,0,1,2,1,0,0,2,1,1,2,1,0,1,0,1,0,1,0,1,1,0,5,2,0,1,0,0,0,0,1,1,1,0,0,0,2,0,0,1,5,1,0,0,0,0,0,2,0,3,2,0,3,0,1,0,1,0,2,3,2,0,0,1,3,0,2,1,0,0,1,4,0,1,3,0,3,0,1,1,2,0,0,0,2,2,0,2,1,1,1,4,0,1,0,1,0,0,0,0,3,1,0,0,2,1,1,0,0,0,0,0,0,3,1,0,0,0,0,0,3,4,0,0,2,0,0,3,0,1,0,1,1,0,1,1,0,0,3,0,1,2,1,0,0,1,2,4,0,1,3,0,1,0,2,0,0,1,0,2,0,2,0,1,1,2,4,0,2,1,1,2,0,0,0,0,0,0,3,0,1,1,1,1,0,2,0,1,8,0,0,0,0,1,0,3,2,1,0,3,0,2,0,0,3,6,0,0,0,1,2,2,3,0,1,0,0,0,0,0,0,1,2,1,1,1,0,0,5,4,1,0,0,0,0,0,0,3,0,1,0,0,1,0,2,6,1,2,1,0,1,4,5,0,1,0,1,1,1,1,2,0,1,1,2,1,0,0,0,0,0,1,0,0,0,0,2,3,0,4,3,0,0,2,0,0,0,0,0,6,0,3,1,1,3,2,2,0,0,2,0,1,0,0,1,0,1,0,0,0,0,0,5,4,1,0,2,2,1,3,0,1,0,0,1,1,0,0,0,2,0,0,1,0,1,2,1,1,0,8,0,2,1,3,0,1,6,0,0,3,0,0,0,0,1,0,4,0,1,4,0,0,0,0,2,1,0,5,0,1,3,1,0,0,0,0,0,0,1,0,0,1,1,4,2,1,0,1,1,0,0,3,1,0,1,1,0,0,1,0,1,0,2,2,0,1,2,0,0,0,0,0,1,1,0,0,0,3,0,2,0,0,0,3,2,1,1,0,0,1,0,2,0,3,0,1,0,1,2,0,2,1,3,0,0,4,3,1,0,0,1,2,1,1,0,4,0,2,0,3,1,1,0,1,1,2,1,3,0,0,1,1,0,3,2,0,1,0,0,0,1,0,3,0,0,2,5,5,1,0,0,1,0,1,1,2,0,1,0,2,1,3,0,1,1,1,1,0,0,3,2,0,0,1,0,1,0,1,1,0,0,1,1,4,3,1,2,0,1,2,1,0,1,0,1,0,2,3,4,0,0,2,0,0,0,1,3,2,2,0,0,0,0,1,3,0,2,0,3,0,4,0,3,0,1,0,1,1,2,7,1,1,7,0,0,0,1,1,0,0,0,1,0,1,1,2,0,0,0,0,0,1,3,2,2,1,0,0,0,2,0,1,2,0,2,0,2,0,0,3,0,1,0,0,3,1,0,1,0,1,0,1,0,3,0,0,2,2,1,4,0,5,2,0,3,1,1,2,6,1,3,0,1,0,1,1,0,1,1,1,1,1,0,1,2,0,0,1,2,2,2,0,0,3,1,1,0,0,3,3,0,1,0,0,1,0,0,0,0,4,0,2,1,2,0,0,1,0,2,1,0,2,4,0,1,1,1,0,0,0,0,0,1,0,3,0,0,1,2,2,0,0,1,2,4,0,2,3,0,0,0,2,0,2,1,0,1,2,1,3,1,3,2,1,0,0,1,1,2,0,0,4,2,0,0,0,1,1,0,0,0,0,0,0,0,0,0,1,4,0,1,3,0,4,0,0,0,0,3,4,0,0,1,5,3,0,0,0,1,0,2,1,0,3,1,2,1,0,0,4,1,2,1,0,0,0,0,1,0,1,1,1,1,1,3,2,1,1,2,5,5,1,2,0,1,1,0,1,1,1,0,0,0,2,2,0,0,0,5,0,0,0,0,0,0,0,0,2,3,0,1,1,1,0,0,0,0,2,1,2,2,1,1,0,0,3,2,1,0,0,0,1,0,4,0,3,1,1,3,0,0,1,2,2,1,0,0,0,0,1,0,4,0,3,0,0,0,1,0,0,2,7,0,0,1,2,1,1,0,0,2,1,0,1,0,1,0,1,0,1,1,0,0,1,2,7,3,0,0,0,0,0,0,2,2,0,4,1,0,0,0,0,2,4,0,1,0,0,0,1,0,0,0,0,1,2,3,1,1,2,0,2,2,0,1,0,1,1,1,3,4,0,0,0,0,0,0,2,0,0,1,0,0,0,1,0,0,0,3,3,0,1,6,1,0,1,0,1,0,4,0,2,0,2,0,0,1,3,2,0,0,0,3,0,0,0,0,0,1,0,2,1,1,1,0,0,0,1,2,3,0,0,3,2,2,1,1,1,0,2,0,0,1,3,0,0,0,1,1,1,0,3,2,0,0,1,2,2,1,0,1,0,3,1,0,0,0,2,0,3,0,0,0,1,0,0,1,0,0,1,0,0,0,4,0,2,0,2,0,0,2,1,1,0,0,0,0,1,0,5,0,0,4,1,3,0,4,0,1,1,1,2,4,0,1,3,1,2,1,0,1,2,0,0,0,2,1,0,1,1,4,1,0,1,0,5,0,0,0,0,2,2,0,0,0,0,0,0,0,0,4,0,0,1,0,0,0,1,0,0,1,0,1,0,2,5,0,5,1,3,0,2,0,0,0,1,0,0,0,0,0,5,0,1,1,0,0,0,0,0,0,1,0,0,0,3,0,1,5,0,0,1,0,0,0,0,1,0,0,0,0,0,0,0,1,1,2,0,1,0,0,1,0,0,1,0,2,1,1,0,1,0,0,1,1,0,1,2,0,0,0,3,0,2,3,3,0,1,0,0,1,1,1,8,2,3,0,0,2,1,0,0,3,1,4,0,2,0,0,0,1,2,1,0,0,1,1,0,0,1,1,0,0,2,0,3,1,0,2,0,1,0,2,3,0,2,1,0,1,0,0,0,0,1,0,1,3,2,0,2,2,2,2,2,1,0,0,0,5,0,1,0,0,1,0,0,3,0,0,5,2,0,1,1,1,2,0,1,0,1,1,7,1,0,1,2,1,0,2,0,0,0,1,1,4,0,0,1,0,1,1,0,0,0,2,3,1,1,3,0,1,1,3,0,0,0,3,0,0,4,0,4,5,0,1,0,0,4,0,0,2,0,2,0,0,1,3,0,2,2,1,3,6,0,0,1,0,1,1,0,0,0,0,1,4,1,5,0,0,0,3,0,0,1,0,1,2,0,2,2,3,0,0,2,4,0,2,0,3,1,2,0,1,0,0,0,0,3,0,4,0,0,2,2,2,3,0,0,3,5,1,1,1,0,1,0,1,0,1,0,1,1,2,0,2,2,0,0,3,2,1,0,0,1,0,1,0,0,3,1,1,0,1,4,0,1,1\n"
          ]
        }
      ]
    }
  ]
}