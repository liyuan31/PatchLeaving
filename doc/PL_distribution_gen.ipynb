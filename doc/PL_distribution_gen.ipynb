{
  "nbformat": 4,
  "nbformat_minor": 0,
  "metadata": {
    "colab": {
      "name": "PL_distribution_gen.ipynb",
      "provenance": [],
      "collapsed_sections": []
    },
    "kernelspec": {
      "name": "python3",
      "display_name": "Python 3"
    },
    "language_info": {
      "name": "python"
    }
  },
  "cells": [
    {
      "cell_type": "code",
      "execution_count": 1,
      "metadata": {
        "colab": {
          "base_uri": "https://localhost:8080/",
          "height": 300
        },
        "id": "AyPNyNYGF65y",
        "outputId": "55ca568e-c00a-45e6-baa4-f0ff136b56ee"
      },
      "outputs": [
        {
          "output_type": "stream",
          "name": "stdout",
          "text": [
            "Found a distribution with size 5000 and mean 1.001 after 157507 iterations.\n",
            "[2494, 1235, 635, 323, 160, 72, 47, 23, 11]\n"
          ]
        },
        {
          "output_type": "display_data",
          "data": {
            "image/png": "[encoded data removed]",
            "text/plain": [
              "<Figure size 432x288 with 1 Axes>"
            ]
          },
          "metadata": {
            "needs_background": "light"
          }
        }
      ],
      "source": [
        "import numpy as np\n",
        "import matplotlib.pyplot as plt\n",
        "size = 5000\n",
        "target_mean = 1\n",
        "err = 1\n",
        "max = 0\n",
        "n = 0\n",
        "while err > 0.001 or max > 8:\n",
        "    z = np.random.geometric(p=0.5, size=size)\n",
        "    z = z-1\n",
        "    err = np.abs(np.mean(z)-target_mean)\n",
        "    max = np.max(z)\n",
        "    n += 1\n",
        "\n",
        "print(\"Found a distribution with size %d and mean %.3f after %d iterations.\" %\n",
        "      ( size, z.mean(), n))\n",
        "freq = [np.sum(z==i) for i in range(0,9)];print(freq)\n",
        "plt.bar([i for i in range(0,9)], freq);"
      ]
    },
    {
      "cell_type": "code",
      "source": [
        "print(\",\".join([str(e) for e in z]))"
      ],
      "metadata": {
        "colab": {
          "base_uri": "https://localhost:8080/"
        },
        "id": "9dpDutRUL8Go",
        "outputId": "cb082cb3-c6e6-4b39-e2a4-1681848c1cb6"
      },
      "execution_count": 2,
      "outputs": [
        {
          "output_type": "stream",
          "name": "stdout",
          "text": [
            "1,0,0,0,1,2,0,1,0,2,0,1,0,0,1,0,0,2,2,1,0,1,2,2,1,0,1,1,0,0,0,3,2,1,3,2,1,0,0,0,0,0,1,3,1,1,0,1,4,0,0,1,1,0,1,0,0,2,1,1,2,1,1,0,2,2,0,0,0,1,6,2,0,0,1,3,5,0,0,3,4,0,0,0,1,0,0,0,0,3,0,0,0,1,1,3,1,0,2,0,1,0,1,0,0,1,1,2,0,3,1,6,0,0,0,1,0,1,0,0,1,4,1,0,0,0,0,1,0,2,2,2,0,0,1,4,2,2,0,3,0,2,1,0,3,0,1,2,1,2,2,0,1,0,0,0,1,1,0,0,7,2,2,0,1,1,0,3,0,0,0,4,1,1,4,1,0,0,0,2,4,0,0,2,0,0,3,1,1,3,1,2,0,0,1,0,0,2,0,0,3,1,0,0,0,1,3,2,0,3,0,2,1,5,0,1,0,2,1,0,0,1,0,0,1,0,1,3,0,0,1,2,0,4,1,3,1,0,0,2,3,4,3,4,7,1,2,0,4,1,1,0,0,0,0,0,0,0,0,0,0,1,8,1,1,0,0,1,0,3,0,0,0,3,0,0,1,0,2,1,4,3,0,2,0,0,3,0,0,1,0,0,1,1,2,0,0,4,4,0,1,0,0,1,1,2,3,2,1,5,1,0,3,4,0,0,1,5,1,0,0,1,1,1,0,0,0,1,0,1,1,0,2,0,1,3,1,0,1,2,0,1,2,0,0,0,3,3,0,1,1,0,4,5,0,0,0,1,0,1,0,0,2,0,0,6,1,0,1,0,2,2,1,2,2,3,0,0,0,0,1,0,5,1,0,1,1,0,3,2,0,1,0,0,0,0,1,1,2,0,2,1,0,2,2,2,2,1,1,0,1,1,0,1,0,1,1,0,1,0,0,1,0,1,2,0,0,0,1,3,0,0,0,0,0,1,2,2,0,0,1,2,2,0,2,2,1,0,0,3,3,1,1,1,0,0,0,3,2,2,0,1,0,3,0,2,2,0,0,0,0,3,0,3,0,0,1,0,0,1,1,1,3,2,0,0,1,0,1,1,2,0,4,0,0,4,0,0,0,0,0,0,0,0,3,1,1,0,0,1,0,2,0,2,0,1,0,3,1,1,0,0,0,1,1,1,2,0,2,1,2,0,3,1,4,1,4,0,0,1,2,1,0,0,2,2,1,6,1,3,0,0,0,0,0,0,0,2,2,4,1,0,4,2,1,1,3,1,0,0,0,3,1,4,4,5,0,2,0,0,1,1,0,0,0,0,1,0,0,1,1,1,0,0,0,0,1,0,1,0,0,0,0,0,0,0,1,1,0,0,1,2,3,0,3,2,2,0,1,1,1,0,0,0,0,0,0,1,0,0,3,0,0,0,4,0,1,0,2,0,1,0,7,1,6,1,1,0,1,3,2,1,4,0,0,1,2,0,3,5,0,1,1,0,0,1,0,0,0,0,0,1,0,1,2,2,3,1,0,0,2,0,0,0,2,0,1,4,1,0,0,1,2,3,0,1,1,1,0,1,0,0,0,0,2,1,1,0,0,1,1,1,3,3,3,1,1,3,0,0,0,1,2,0,1,0,1,2,0,0,1,0,1,1,0,0,2,3,0,1,1,2,1,0,1,2,2,0,0,0,0,0,0,1,1,0,0,2,0,0,2,2,1,0,1,2,0,0,1,0,2,2,1,3,0,3,0,0,0,0,0,0,1,1,2,1,0,5,0,0,0,0,1,0,2,1,2,3,0,0,1,2,0,4,0,1,0,3,0,0,1,0,2,1,0,1,1,3,1,4,3,0,0,0,0,1,0,0,0,1,1,0,0,0,0,0,1,5,0,0,4,0,2,0,2,1,0,3,0,1,0,0,1,3,0,0,1,0,1,2,1,1,0,0,1,2,0,3,0,0,1,0,0,3,1,0,0,1,3,1,0,0,0,0,0,4,1,0,1,0,0,1,0,0,0,0,2,0,0,1,2,2,0,0,4,3,2,2,0,0,5,1,0,1,1,0,0,0,0,0,6,3,0,1,0,1,5,0,0,3,1,2,0,0,2,0,0,0,3,1,0,0,0,0,4,0,0,0,0,0,3,0,1,4,1,0,0,0,0,1,2,2,1,0,2,1,1,0,0,0,0,0,1,0,2,1,2,1,0,0,1,0,1,2,6,1,0,1,2,3,0,1,0,0,1,1,3,0,0,0,0,0,0,1,1,0,2,1,0,0,1,0,0,2,0,0,0,0,2,0,8,0,1,0,0,1,6,0,0,0,0,0,1,0,0,0,1,1,0,2,0,4,3,0,0,0,0,1,0,1,2,0,0,0,0,1,0,0,7,4,3,0,2,2,2,0,0,1,0,1,0,1,0,1,0,0,0,1,1,0,0,1,0,1,1,1,1,3,1,0,0,0,1,0,0,0,1,1,0,0,1,0,1,0,1,0,1,0,0,0,0,3,0,1,0,0,0,0,4,1,1,3,1,1,2,0,1,5,0,2,3,0,0,1,1,1,0,1,0,2,0,0,0,6,0,0,0,0,0,0,0,0,4,2,3,0,0,0,1,2,2,1,0,0,4,0,0,0,0,0,0,3,5,0,0,0,0,0,4,0,0,2,5,2,1,0,0,0,0,1,2,2,0,0,3,0,0,1,0,0,1,1,0,0,0,0,1,0,0,0,0,2,1,8,1,0,2,0,1,0,4,2,0,0,0,2,1,2,2,0,0,2,2,0,1,0,0,0,3,2,2,2,0,0,0,5,2,0,6,0,0,2,1,0,2,1,0,0,0,2,1,4,0,3,1,0,0,0,0,1,3,2,2,3,0,1,0,0,2,1,0,2,0,2,0,0,0,0,1,0,1,1,0,1,0,0,1,1,1,0,0,2,1,0,1,0,1,1,0,5,0,1,0,1,0,0,2,0,0,1,1,3,0,0,2,4,1,0,0,0,0,1,0,3,0,0,0,2,2,0,0,1,1,1,0,0,0,0,1,4,2,2,0,4,0,2,4,4,0,1,0,1,0,1,2,1,0,1,1,3,4,0,0,0,0,4,0,4,3,0,0,0,0,0,2,0,1,0,3,1,4,0,0,3,0,0,3,0,0,0,6,0,0,0,0,0,0,3,1,0,0,0,0,2,0,3,0,0,3,6,0,0,1,1,1,0,2,2,2,1,0,0,2,4,0,1,1,0,5,0,0,1,2,3,4,0,0,0,1,3,1,0,0,7,0,2,4,2,0,0,1,0,2,1,1,0,6,0,7,1,1,2,0,0,0,2,1,0,2,1,1,2,0,0,4,0,3,2,0,0,0,2,0,1,0,0,0,1,0,0,1,0,0,2,0,0,0,0,1,2,0,1,0,2,1,2,0,0,0,0,0,0,1,0,0,0,3,0,0,0,0,3,5,1,0,1,1,0,2,0,2,1,2,1,0,1,0,1,0,0,0,0,0,0,1,0,1,1,0,0,0,2,0,1,0,0,3,1,2,3,0,1,2,4,0,3,0,4,0,0,0,0,0,1,0,0,0,1,0,2,0,0,1,2,1,2,0,1,1,0,0,0,2,0,0,2,0,0,0,1,2,0,0,7,2,0,2,1,0,2,1,1,2,1,0,1,7,0,0,0,0,1,0,0,1,2,0,2,6,1,7,0,1,0,3,1,2,1,1,1,0,1,0,1,1,0,3,2,0,0,2,0,1,1,0,0,0,0,1,0,2,0,1,0,0,0,0,0,0,4,0,0,1,1,2,2,1,3,0,0,0,0,1,0,0,0,0,2,0,0,4,0,2,0,1,1,0,0,0,0,0,5,6,1,0,0,0,0,0,0,2,0,1,0,0,1,1,4,1,0,0,0,3,3,0,0,5,0,0,1,1,1,0,0,2,0,2,0,1,1,1,1,3,1,0,1,1,4,2,2,0,1,0,0,2,0,3,3,3,1,1,1,0,0,0,3,2,2,0,0,1,0,0,0,0,1,1,0,0,0,0,1,3,2,1,3,1,0,0,0,0,0,0,0,5,4,1,0,4,1,1,1,2,0,0,0,3,0,0,0,2,1,0,2,1,0,0,0,0,1,2,3,1,1,0,0,0,2,1,1,1,0,3,0,0,1,2,2,0,0,1,1,1,0,5,1,0,2,0,0,0,1,0,2,2,1,3,0,0,5,2,2,0,1,1,1,0,1,1,6,1,0,1,0,2,0,2,0,0,0,0,1,0,0,0,0,4,1,0,0,6,1,0,0,1,1,1,0,2,0,0,0,2,0,0,0,2,3,0,4,2,1,0,0,2,4,1,1,1,1,2,1,0,0,2,1,2,3,0,2,1,1,1,0,0,0,1,0,0,1,0,1,0,1,0,0,0,1,1,3,1,2,6,0,0,1,0,0,2,1,5,0,0,0,3,0,1,1,2,2,2,0,0,0,1,0,2,1,1,0,4,0,0,0,1,0,1,0,0,0,2,1,1,0,2,1,2,1,2,2,0,0,1,1,0,0,1,0,0,1,3,5,1,1,1,3,1,1,0,0,0,4,1,1,2,0,3,7,6,0,3,1,2,3,7,1,0,0,0,2,0,1,1,2,2,0,0,2,0,6,0,0,3,0,0,5,0,0,2,0,0,0,1,0,2,0,2,3,1,1,1,1,3,0,0,0,1,0,1,0,1,0,0,1,2,1,0,0,0,0,4,0,0,0,1,1,0,0,0,0,1,0,0,1,1,0,0,1,1,0,0,0,0,1,3,0,1,0,0,0,0,1,0,0,0,0,0,1,0,2,0,0,2,0,1,0,0,0,0,0,2,0,6,2,1,1,5,0,0,0,1,0,0,1,3,0,0,1,1,0,0,2,1,0,0,0,0,1,2,0,0,3,0,0,0,0,3,0,1,2,0,1,4,2,0,0,0,0,2,0,0,4,0,4,3,1,1,0,1,2,0,1,0,4,1,0,2,1,2,0,2,4,0,0,0,0,1,0,0,0,4,3,6,1,0,4,1,2,0,0,3,2,0,1,0,0,0,0,1,0,2,1,1,4,0,0,0,1,5,2,0,1,0,0,0,0,0,4,0,0,3,0,0,1,2,0,0,0,0,1,0,0,0,1,2,4,1,0,0,0,1,3,6,2,0,0,0,8,2,4,1,0,0,1,0,2,4,3,0,0,0,5,1,0,0,4,2,1,6,0,0,1,0,2,0,0,0,0,0,6,2,0,1,0,1,0,0,1,1,0,0,0,4,0,1,0,3,0,2,0,0,0,0,0,2,1,3,0,0,0,0,1,0,4,3,5,1,5,1,6,1,1,1,0,1,0,0,0,1,0,5,2,1,1,0,0,0,1,0,1,0,2,0,0,3,1,1,1,0,0,0,1,1,2,8,1,0,0,0,3,2,3,2,0,1,1,0,0,3,0,3,1,0,3,5,0,2,4,0,0,0,0,3,0,0,3,2,0,0,0,1,0,1,1,0,6,0,0,2,2,1,2,2,0,3,0,0,3,0,0,2,2,2,2,0,3,0,5,1,0,1,0,4,3,1,1,2,3,1,0,0,0,0,3,4,1,2,1,0,2,1,0,1,3,0,5,0,0,1,0,1,1,0,1,0,0,0,0,0,0,0,0,3,0,0,5,1,0,0,1,0,3,0,0,1,0,5,0,0,4,0,1,1,3,3,3,0,1,6,0,1,0,2,3,1,0,0,2,0,0,6,0,0,0,0,0,2,1,3,0,0,3,1,0,0,0,2,0,3,2,3,0,1,0,0,0,0,0,0,0,0,2,0,2,0,1,0,3,0,1,0,0,1,0,0,3,0,0,0,2,0,0,0,2,0,1,1,0,0,1,1,0,0,2,0,0,2,1,0,2,0,1,0,2,0,0,2,0,0,0,3,0,3,5,1,0,1,2,0,2,0,1,0,0,1,1,1,0,0,1,0,1,8,2,0,0,4,0,0,0,0,4,3,0,1,3,1,1,0,4,0,1,0,0,0,4,1,1,0,0,0,0,2,0,1,3,1,0,3,1,1,0,4,0,0,0,0,0,0,1,0,2,0,0,3,2,0,2,2,0,1,0,0,0,0,0,1,0,1,0,2,0,1,2,0,0,0,1,1,3,0,4,0,0,2,0,0,4,0,3,0,0,0,0,0,1,1,0,1,0,2,1,0,1,1,5,0,0,4,1,2,2,1,0,0,2,0,1,0,0,1,1,2,1,1,0,2,0,0,0,1,1,0,0,1,1,1,2,1,0,0,0,0,2,0,0,0,1,1,4,1,4,0,0,3,0,4,0,1,0,2,1,0,0,0,1,0,0,0,4,2,0,0,0,1,0,0,0,4,0,0,3,0,1,0,1,1,1,2,0,0,0,0,0,0,2,0,0,3,0,1,3,0,0,0,0,0,0,0,3,0,1,0,2,1,2,0,1,1,0,2,0,0,1,0,2,0,1,0,0,1,2,2,1,3,0,0,0,0,1,7,0,0,0,1,1,0,0,2,0,2,1,2,0,1,0,2,0,0,1,3,0,4,0,1,0,7,0,0,0,0,0,3,0,1,0,1,3,2,0,0,0,1,6,1,0,0,2,2,0,1,2,0,3,0,0,0,1,1,2,0,1,0,0,2,0,2,0,0,0,1,3,1,0,0,0,2,1,0,0,3,1,0,0,0,1,0,0,1,2,3,0,0,1,4,1,0,2,2,2,3,0,5,1,0,2,1,0,0,1,0,0,1,0,1,0,0,0,0,0,0,8,1,0,4,5,1,1,0,2,0,1,4,0,3,1,3,0,1,0,0,0,0,0,1,0,0,1,0,0,0,0,0,0,1,0,0,1,0,0,1,8,1,3,0,1,0,0,1,2,0,2,1,1,0,0,1,0,0,1,0,0,0,0,0,3,1,1,0,0,2,0,0,1,3,1,1,1,0,0,1,0,0,4,2,0,2,0,3,0,3,0,0,0,0,2,1,0,1,3,0,0,0,0,0,6,0,4,1,2,0,2,2,0,0,0,2,2,2,1,0,0,0,1,2,0,0,2,1,7,0,0,0,2,0,3,1,1,0,0,1,0,0,1,1,0,1,1,0,4,1,0,0,0,6,1,1,3,2,0,2,0,0,1,5,0,0,0,2,1,0,0,1,2,0,1,3,1,1,4,0,0,1,1,0,2,1,0,1,2,1,1,0,2,1,3,0,2,0,3,1,0,4,1,0,1,0,1,0,0,0,0,0,3,3,0,0,0,3,1,1,0,0,0,0,0,1,0,0,0,5,1,1,0,1,2,0,0,1,0,1,0,0,5,0,3,0,0,2,1,1,0,7,1,2,1,0,0,0,1,0,1,0,0,0,0,3,0,0,0,0,0,0,0,2,0,0,2,0,6,1,0,0,5,3,0,3,1,1,0,1,0,1,3,0,0,0,1,1,2,0,0,0,0,3,1,0,1,1,0,1,0,1,1,1,0,1,0,2,3,4,1,3,0,1,6,3,0,0,0,0,1,0,1,0,8,0,0,0,0,0,2,1,1,2,0,1,1,2,0,0,3,2,4,1,0,1,0,0,4,0,0,0,3,3,0,0,2,2,1,0,5,0,1,0,0,0,0,0,0,0,0,1,1,1,1,2,1,2,2,0,1,3,0,0,0,0,1,4,8,0,0,2,0,1,4,0,0,0,1,1,1,0,0,0,0,0,3,1,3,0,0,0,1,0,0,0,0,1,3,0,0,0,1,3,1,0,1,0,0,0,0,2,0,3,1,3,1,0,2,0,1,3,0,0,0,6,0,0,3,3,0,0,2,0,2,1,2,3,0,0,0,0,0,0,1,0,0,4,4,1,1,3,0,4,2,6,0,0,0,0,0,1,0,0,0,0,1,1,2,1,2,0,1,0,1,0,0,0,1,2,1,0,1,1,1,0,0,0,0,1,0,0,1,2,4,2,2,0,0,3,1,0,2,0,0,1,0,0,1,0,0,7,1,0,1,0,0,0,0,5,0,2,0,0,2,1,0,1,2,0,0,6,3,0,0,4,1,0,2,2,1,0,0,7,2,0,0,0,2,1,5,2,1,1,0,1,0,0,2,0,0,2,0,7,2,0,0,0,1,0,3,1,5,0,0,2,1,2,0,2,1,0,1,0,0,0,2,1,0,2,2,0,2,0,0,1,1,0,1,0,1,2,4,0,0,2,1,3,0,0,2,0,0,0,6,0,0,0,7,2,0,2,1,2,1,1,0,2,1,0,0,0,1,1,0,0,1,0,3,1,0,1,3,0,0,0,1,1,1,2,0,3,1,1,1,2,0,0,2,0,0,0,2,2,0,2,1,0,1,0,2,3,1,0,2,0,1,0,0,2,0,0,0,0,3,0,0,1,0,0,1,0,0,3,2,1,0,2,1,2,0,0,0,3,1,3,1,2,0,0,0,0,0,0,2,1,0,7,1,1,2,0,0,1,2,1,5,0,3,0,2,0,0,1,2,2,0,0,4,0,0,4,2,0,0,0,8,5,0,1,0,1,1,0,4,4,0,0,0,1,1,0,0,0,2,0,0,0,0,0,1,0,0,0,1,1,1,0,0,1,0,1,0,0,1,2,0,3,4,0,0,6,0,0,1,0,0,0,2,0,2,2,0,2,1,3,0,0,3,2,0,0,1,0,0,0,1,3,1,2,0,1,0,0,0,2,0,0,0,0,0,1,1,3,0,0,0,0,0,1,0,3,7,1,0,0,0,0,0,1,0,1,1,2,2,1,1,2,0,0,3,0,0,0,0,0,0,1,1,0,5,4,0,0,2,0,1,1,1,1,2,0,6,0,1,0,1,3,0,1,0,2,3,0,1,2,0,1,1,4,1,1,0,0,1,1,0,0,4,0,1,0,0,0,4,0,2,1,0,1,1,0,0,3,0,1,2,0,0,2,1,1,0,1,2,0,0,1,1,2,0,0,0,0,0,3,1,0,1,2,2,2,0,0,1,0,0,0,0,0,1,0,0,2,0,0,1,5,2,1,1,1,3,0,0,0,0,2,1,0,0,1,0,1,1,0,0,0,4,1,1,2,1,1,1,0,0,2,1,0,0,0,0,2,2,4,0,1,0,0,0,0,2,6,2,0,0,0,0,5,0,1,1,2,1,5,2,0,0,0,0,0,0,2,0,0,0,0,1,4,0,0,2,1,0,1,0,0,2,0,0,1,2,2,0,1,1,5,1,0,3,0,1,2,1,4,0,3,2,0,0,1,2,0,0,0,0,0,1,0,0,2,1,0,0,2,0,1,1,0,0,0,0,0,0,0,1,0,2,0,1,1,0,1,0,0,2,0,1,1,0,1,0,1,5,3,0,0,0,0,0,0,0,0,1,3,2,0,0,2,1,0,1,1,3,3,1,3,0,0,1,1,1,1,2,1,0,3,1,1,0,0,0,1,1,1,5,2,0,2,0,1,0,2,0,1,0,0,0,0,0,1,3,0,5,1,0,1,2,1,2,1,0,0,0,1,1,0,0,2,2,1,2,2,0,0,0,0,0,1,0,1,1,0,0,0,0,1,2,5,0,1,0,1,0,0,1,1,0,0,0,1,2,0,0,1,0,4,0,0,3,0,2,1,0,0,2,1,1,1,4,3,0,4,1,0,1,0,0,2,0,0,0,1,3,1,3,0,0,4,0,0,1,1,0,1,3,0,0,0,2,2,0,0,0,0,1,1,1,0,2,0,0,1,0,0,2,4,0,4,2,2,3,2,3,0,1,3,1,0,1,2,1,0,0,0,3,0,2,4,1,2,0,0,1,2,1,2,6,1,0,0,0,0,0,0,0,2,4,1,0,0,0,0,3,0,0,0,2,1,1,1,1,0,0,1,1,2,0,0,0,1,1,0,0,0,4,0,0,6,0,0,0,1,1,0,0,0,0,0,2,0,3,0,2,3,0,0,2,0,0,0,1,0,3,0,0,2,4,0,0,1,0,0,2,0,1,0,0,0,1,2,0,0,2,1,0,0,0,0,2,0,0,0,0,0,0,1,0,6,3,4,0,2,0,2,0,1,5,2,0,1,1,1,0,2,0,3,0,0,0,2,0,3,1,0,0,0,0,2,1,1,0,0,0,0,0,1,0,1,0,1,1,1,1,2,0,3,0,1,3,2,1,0,1,0,0,0,1,0,1,2,0,1,0,1,6,2,0,4,1,2,0,0,2,1,0,5,0,1,3,2,3,0,0,2,2,3,0,1,0,3,3,0,5,0,1,1,3,0,0,2,0,0,5,0,1,1,0,0,3,0,1,0,1,2,0,1,2,3,0,2,1,0,3,0,0,0,0,0,2,2,2,0,1,0,0,0,0,1,2,2,0,0,0,0,2,0,1,4,0,0,2,0,2,2,1,0,1,0,1,1,0,6,2,0,2,0,1,0,0,1,0,0,0,1,3,0,1,1,0,1,0,0,0,0,2,1,0,1,0,1,0,2,2,1,0,2,2,0,0,1,0,0,6,2,0,2,1,0,1,2,2,0,1,1,0,0,1,0,1,0,0,3,0,2,3,4,0,5,0,0,0,0,0,0,0,0,0,2,0,0,0,3,1,1,0,2,0,0,1,3,7,1,0,1,1,0,0,0,3,3,2,1,2,1,2,0,0,0,0,4,1,0,0,0,0,0,1,2,0,0,1,1,7,0,0,0,1,0,5,0,0,0,0,2,0,1,1,0,0,0,0,0,0,0,0,0,0,0,0,1,1,3,5,0,2,2,0,0,0,1,0,1,0,0,0,0,2,0,5,1,4,1,0,5,1,1,3,0,0,0,0,3,0,3,0,0,4,1,0,5,0,3,1,0,0,0,1,0,4,0,0,0,1,0,3,0,2,2,0,1,0,1,0,1,2,3,0,0,0,0,0,0,0,2,0,0,1,0,1,0,1,0,1,1,0,0,4,0,0,2,1,1,0,0,0,0,0,0,0,0,4,0,1,1,0,0,0,1,2,1,0,0,5,1,1,0,0,0,0,1,4,2,0,2,2,2,1,0,1,1,3,1,0,1,3,0,3,2,3,0,0,2,1,1,0,3,0,0,0,0,1,1,0,0,1,1,0,1,4,0,0,0,0,2,0,4,0,0,1,2,0,2,0,1,0,0,0,0,2,0,3,0,0,0,4,1,0,0,0,3,0,1,1,0,4,0,3,1,1,1,0,0,1,1,0,3,1,1,3,0,0,0,2,4,2,0,1,0,0,1,0,0,3,2,2,0,0\n"
          ]
        }
      ]
    }
  ]
}